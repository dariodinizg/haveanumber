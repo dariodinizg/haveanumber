{
 "cells": [
  {
   "cell_type": "code",
   "execution_count": 1,
   "id": "adaptive-height",
   "metadata": {},
   "outputs": [],
   "source": [
    "import pandas as pd \n",
    "from decimal import Decimal, ROUND_HALF_EVEN\n",
    "from datetime import *\n",
    "%config Completer.use_jedi = False\n",
    "from dateutil.relativedelta import relativedelta"
   ]
  },
  {
   "cell_type": "code",
   "execution_count": 9,
   "id": "solid-valentine",
   "metadata": {},
   "outputs": [
    {
     "name": "stdout",
     "output_type": "stream",
     "text": [
      "Collecting xlrd\n",
      "  Downloading xlrd-2.0.1-py2.py3-none-any.whl (96 kB)\n",
      "\u001b[K     |████████████████████████████████| 96 kB 611 kB/s eta 0:00:011\n",
      "\u001b[?25hInstalling collected packages: xlrd\n",
      "Successfully installed xlrd-2.0.1\n"
     ]
    }
   ],
   "source": [
    "!pip3 install xlrd"
   ]
  },
  {
   "cell_type": "code",
   "execution_count": 2,
   "id": "typical-celebrity",
   "metadata": {},
   "outputs": [],
   "source": [
    "class QuantizeCtx:\n",
    "    \"\"\" Create a context for decimal's quantize(decimal_places and rounding) and apply it with 'apply' method\"\"\"\n",
    "    \n",
    "    def __init__(self, decimal_places: str, rounding: str):\n",
    "        self.decimal_places = decimal_places\n",
    "        self.rounding = rounding\n",
    "    \n",
    "    def apply(self, expression) -> Decimal:\n",
    "        \"\"\"Apply the Decimal's quantize method to a value with the given initial params\"\"\"\n",
    "        return expression.quantize(Decimal(f\"{self.decimal_places}\"), self.rounding)"
   ]
  },
  {
   "cell_type": "code",
   "execution_count": 4,
   "id": "photographic-toronto",
   "metadata": {},
   "outputs": [],
   "source": [
    "class FinancialCalculator:    \n",
    "\n",
    "    TWO_CENTS = (Decimal(\"0.00\"), ROUND_UP)\n",
    "    FOR_PLACES = Decimal(\"0.0000\")\n",
    "\n",
    "    def __init__(\n",
    "            self, \n",
    "            current_age, \n",
    "            goal_age, \n",
    "            goal_monthly_withdraw, \n",
    "            initial_patrimony, \n",
    "            monthly_contribution, \n",
    "            current_interest, \n",
    "            future_interest, \n",
    "            max_age\n",
    "        ):\n",
    "        self.current_age = current_age\n",
    "        self.goal_age = goal_age\n",
    "        self.goal_monthly_withdraw = Decimal(goal_monthly_withdraw)\n",
    "        self.initial_patrimony = Decimal(initial_patrimony)\n",
    "        self.monthly_contribution = Decimal(monthly_contribution)\n",
    "        self.current_interest = Decimal().from_float(current_interest/100).quantize(self.FOR_PLACES, ROUND_HALF_EVEN)\n",
    "        self.future_interest = Decimal().from_float(future_interest/100).quantize(self.FOR_PLACES, ROUND_HALF_EVEN)\n",
    "        self.max_age = max_age\n",
    "\n",
    "    @property\n",
    "    def contribution_years(self):\n",
    "        return self.goal_age - self.current_age\n",
    "\n",
    "    @property\n",
    "    def contribution_months(self):\n",
    "        return self.contribution_years * 12\n",
    "\n",
    "    @property\n",
    "    def consumption_months(self):\n",
    "        return (self.max_age - self.goal_age) * 12\n",
    "    \n",
    "    @property\n",
    "    def monthly_yield_current(self):\n",
    "        return self._convert_to_monthly_yield(self.current_interest)\n",
    "\n",
    "    @property\n",
    "    def monthly_yield_goal(self):\n",
    "        return self._convert_to_monthly_yield(self.future_interest)\n",
    "\n",
    "    @property\n",
    "    def consumable_patrimony_value(self):\n",
    "        return self.present_value(self.goal_monthly_withdraw, self.monthly_yield_goal, self.consumption_months)\n",
    "\n",
    "    @property\n",
    "    def infinity_patrimony_value(self):\n",
    "        return (self.goal_monthly_withdraw/self.monthly_yield_goal).quantize(*self.TWO_CENTS)\n",
    "    \n",
    "    def create_monthly_growth_history(self):\n",
    "        last_month_value = self.initial_patrimony\n",
    "        growth_history = [last_month_value]\n",
    "        for i in range(0, self.contribution_months + 1):\n",
    "            month_plus_interest = (last_month_value * (1 + self.monthly_yield_current)) + self.monthly_contribution\n",
    "            month_plus_interest.quantize(*self.TWO_CENTS)\n",
    "            growth_history.append(month_plus_interest)\n",
    "            last_month_value = month_plus_interest\n",
    "        return growth_history\n",
    "\n",
    "    def create_anual_growth_history(self):\n",
    "        last_year_value = self.initial_patrimony\n",
    "        growth_history = [last_year_value]\n",
    "        for i in range(0, self.contribution_years + 1):\n",
    "            year_plus_interest = (last_year_value * (1 + self.current_interest)) + (self.monthly_contribution * 12)\n",
    "            year_plus_interest.quantize(*self.TWO_CENTS)\n",
    "            growth_history.append(year_plus_interest)\n",
    "        return growth_history\n",
    "\n",
    "\n",
    "    def create_yearly_growth_table(self):\n",
    "        pass\n",
    "\n",
    "    def create_patrimony_consume_table(self):\n",
    "        pass\n",
    "    \n",
    "    def create_yield_consume_table(self):\n",
    "        pass\n",
    "\n",
    "    @staticmethod\n",
    "    def present_value(payment, interest, period):\n",
    "        quantized = QuantizeCtx(\"0.000000\", ROUND_HALF_EVEN).apply\n",
    "        \n",
    "        if type(interest) == float:\n",
    "            interest = Decimal.from_float(interest).quantize(Decimal(\"0.00\"))\n",
    "        \n",
    "        block1 = quantized(((1 + interest)**period))\n",
    "        block2 = quantized(((1 + interest)**(period-1)))\n",
    "        block3 = quantized(block2 * interest)\n",
    "        result = quantized(payment * (block1 - 1)/ block3)\n",
    "\n",
    "        return result.quantize(Decimal(\"0.00\"))\n",
    "\n",
    "    @staticmethod\n",
    "    def payment_value(future_value, interest, period):\n",
    "        if type(interest) == float:\n",
    "            interest = Decimal.from_float(interest)\n",
    "        result = Decimal(future_value) * ( interest / ((1 + interest)**period - 1))\n",
    "        return result.quantize(Decimal(\"0.00\"))\n",
    "\n",
    "    @staticmethod\n",
    "    def future_value(monthly_contribution, interest, period):\n",
    "        return monthly_contribution*(((1 + interest)**period) - 1)/interest \n",
    "    \n",
    "    @staticmethod\n",
    "    def _convert_to_monthly_yield(anual_profitability):\n",
    "        quantized = QuantizeCtx(\"0.000000\",ROUND_HALF_EVEN).apply\n",
    "\n",
    "        value = (1 + anual_profitability)**Decimal(1/12) - 1\n",
    "        return quantized(value)\n",
    "    \n",
    "    @staticmethod\n",
    "    def _to_percent(value):\n",
    "        return Decimal(value/100)\n"
   ]
  },
  {
   "cell_type": "code",
   "execution_count": 15,
   "id": "biblical-quick",
   "metadata": {},
   "outputs": [],
   "source": [
    "payload = {\n",
    "            \"current_age\": 30,\n",
    "            \"goal_age\": 60,\n",
    "            \"goal_monthly_withdraw\": 2500,\n",
    "            \"initial_patrimony\": 100000,\n",
    "            \"monthly_contribution\": 100,\n",
    "            \"current_interest\": 9,\n",
    "            \"future_interest\":6,\n",
    "            \"max_age\": 95\n",
    "        }"
   ]
  },
  {
   "cell_type": "code",
   "execution_count": 5,
   "id": "linear-politics",
   "metadata": {},
   "outputs": [],
   "source": [
    "payload3 = {\n",
    "            \"current_age\": 30,\n",
    "            \"goal_age\": 70,\n",
    "            \"goal_monthly_withdraw\": 3500,\n",
    "            \"initial_patrimony\": 150000,\n",
    "            \"monthly_contribution\": 0,\n",
    "            \"current_interest\": 4.907,\n",
    "            \"future_interest\":4.907,\n",
    "            \"max_age\": 90\n",
    "        }"
   ]
  },
  {
   "cell_type": "code",
   "execution_count": 7,
   "id": "sunset-occupation",
   "metadata": {},
   "outputs": [],
   "source": [
    "data = FinancialCalculator(**payload3)"
   ]
  },
  {
   "cell_type": "code",
   "execution_count": 31,
   "id": "prerequisite-usage",
   "metadata": {},
   "outputs": [],
   "source": [
    "serie = pd.read_excel(\"tests/fixture/consumable_patrimony_serie.xls\", sheet_name='serie', header=None)"
   ]
  },
  {
   "cell_type": "code",
   "execution_count": 32,
   "id": "formed-lawrence",
   "metadata": {},
   "outputs": [
    {
     "data": {
      "text/html": [
       "<div>\n",
       "<style scoped>\n",
       "    .dataframe tbody tr th:only-of-type {\n",
       "        vertical-align: middle;\n",
       "    }\n",
       "\n",
       "    .dataframe tbody tr th {\n",
       "        vertical-align: top;\n",
       "    }\n",
       "\n",
       "    .dataframe thead th {\n",
       "        text-align: right;\n",
       "    }\n",
       "</style>\n",
       "<table border=\"1\" class=\"dataframe\">\n",
       "  <thead>\n",
       "    <tr style=\"text-align: right;\">\n",
       "      <th></th>\n",
       "      <th>0</th>\n",
       "    </tr>\n",
       "  </thead>\n",
       "  <tbody>\n",
       "    <tr>\n",
       "      <th>0</th>\n",
       "      <td>5.379839e+05</td>\n",
       "    </tr>\n",
       "    <tr>\n",
       "      <th>1</th>\n",
       "      <td>5.366358e+05</td>\n",
       "    </tr>\n",
       "    <tr>\n",
       "      <th>2</th>\n",
       "      <td>5.352823e+05</td>\n",
       "    </tr>\n",
       "    <tr>\n",
       "      <th>3</th>\n",
       "      <td>5.339235e+05</td>\n",
       "    </tr>\n",
       "    <tr>\n",
       "      <th>4</th>\n",
       "      <td>5.325592e+05</td>\n",
       "    </tr>\n",
       "    <tr>\n",
       "      <th>...</th>\n",
       "      <td>...</td>\n",
       "    </tr>\n",
       "    <tr>\n",
       "      <th>235</th>\n",
       "      <td>1.386111e+04</td>\n",
       "    </tr>\n",
       "    <tr>\n",
       "      <th>236</th>\n",
       "      <td>1.041656e+04</td>\n",
       "    </tr>\n",
       "    <tr>\n",
       "      <th>237</th>\n",
       "      <td>6.958223e+03</td>\n",
       "    </tr>\n",
       "    <tr>\n",
       "      <th>238</th>\n",
       "      <td>3.486056e+03</td>\n",
       "    </tr>\n",
       "    <tr>\n",
       "      <th>239</th>\n",
       "      <td>1.580247e-09</td>\n",
       "    </tr>\n",
       "  </tbody>\n",
       "</table>\n",
       "<p>240 rows × 1 columns</p>\n",
       "</div>"
      ],
      "text/plain": [
       "                0\n",
       "0    5.379839e+05\n",
       "1    5.366358e+05\n",
       "2    5.352823e+05\n",
       "3    5.339235e+05\n",
       "4    5.325592e+05\n",
       "..            ...\n",
       "235  1.386111e+04\n",
       "236  1.041656e+04\n",
       "237  6.958223e+03\n",
       "238  3.486056e+03\n",
       "239  1.580247e-09\n",
       "\n",
       "[240 rows x 1 columns]"
      ]
     },
     "execution_count": 32,
     "metadata": {},
     "output_type": "execute_result"
    }
   ],
   "source": [
    "serie"
   ]
  },
  {
   "cell_type": "code",
   "execution_count": 53,
   "id": "sought-arbitration",
   "metadata": {},
   "outputs": [],
   "source": []
  },
  {
   "cell_type": "code",
   "execution_count": 60,
   "id": "swiss-vietnamese",
   "metadata": {},
   "outputs": [],
   "source": [
    "def to_decimal_float(value):\n",
    "    value2 = Decimal.from_float(value)\n",
    "    quantized = QuantizeCtx(\"0.00\", ROUND_HALF_EVEN).apply\n",
    "    return quantized(value2)\n",
    "    "
   ]
  },
  {
   "cell_type": "code",
   "execution_count": 61,
   "id": "perfect-carol",
   "metadata": {},
   "outputs": [
    {
     "ename": "AttributeError",
     "evalue": "'float' object has no attribute 'quantize'",
     "output_type": "error",
     "traceback": [
      "\u001b[0;31m---------------------------------------------------------------------------\u001b[0m",
      "\u001b[0;31mAttributeError\u001b[0m                            Traceback (most recent call last)",
      "\u001b[0;32m<ipython-input-61-07023423bb53>\u001b[0m in \u001b[0;36m<module>\u001b[0;34m\u001b[0m\n\u001b[0;32m----> 1\u001b[0;31m \u001b[0mserie2\u001b[0m \u001b[0;34m=\u001b[0m \u001b[0mserie\u001b[0m\u001b[0;34m.\u001b[0m\u001b[0mapply\u001b[0m\u001b[0;34m(\u001b[0m\u001b[0mquantizer\u001b[0m\u001b[0;34m)\u001b[0m\u001b[0;34m\u001b[0m\u001b[0;34m\u001b[0m\u001b[0m\n\u001b[0m",
      "\u001b[0;32m~/Dev/haveanumber/env/lib/python3.8/site-packages/pandas/core/series.py\u001b[0m in \u001b[0;36mapply\u001b[0;34m(self, func, convert_dtype, args, **kwds)\u001b[0m\n\u001b[1;32m   4106\u001b[0m             \u001b[0;32melse\u001b[0m\u001b[0;34m:\u001b[0m\u001b[0;34m\u001b[0m\u001b[0;34m\u001b[0m\u001b[0m\n\u001b[1;32m   4107\u001b[0m                 \u001b[0mvalues\u001b[0m \u001b[0;34m=\u001b[0m \u001b[0mself\u001b[0m\u001b[0;34m.\u001b[0m\u001b[0mastype\u001b[0m\u001b[0;34m(\u001b[0m\u001b[0mobject\u001b[0m\u001b[0;34m)\u001b[0m\u001b[0;34m.\u001b[0m\u001b[0m_values\u001b[0m\u001b[0;34m\u001b[0m\u001b[0;34m\u001b[0m\u001b[0m\n\u001b[0;32m-> 4108\u001b[0;31m                 \u001b[0mmapped\u001b[0m \u001b[0;34m=\u001b[0m \u001b[0mlib\u001b[0m\u001b[0;34m.\u001b[0m\u001b[0mmap_infer\u001b[0m\u001b[0;34m(\u001b[0m\u001b[0mvalues\u001b[0m\u001b[0;34m,\u001b[0m \u001b[0mf\u001b[0m\u001b[0;34m,\u001b[0m \u001b[0mconvert\u001b[0m\u001b[0;34m=\u001b[0m\u001b[0mconvert_dtype\u001b[0m\u001b[0;34m)\u001b[0m\u001b[0;34m\u001b[0m\u001b[0;34m\u001b[0m\u001b[0m\n\u001b[0m\u001b[1;32m   4109\u001b[0m \u001b[0;34m\u001b[0m\u001b[0m\n\u001b[1;32m   4110\u001b[0m         \u001b[0;32mif\u001b[0m \u001b[0mlen\u001b[0m\u001b[0;34m(\u001b[0m\u001b[0mmapped\u001b[0m\u001b[0;34m)\u001b[0m \u001b[0;32mand\u001b[0m \u001b[0misinstance\u001b[0m\u001b[0;34m(\u001b[0m\u001b[0mmapped\u001b[0m\u001b[0;34m[\u001b[0m\u001b[0;36m0\u001b[0m\u001b[0;34m]\u001b[0m\u001b[0;34m,\u001b[0m \u001b[0mSeries\u001b[0m\u001b[0;34m)\u001b[0m\u001b[0;34m:\u001b[0m\u001b[0;34m\u001b[0m\u001b[0;34m\u001b[0m\u001b[0m\n",
      "\u001b[0;32mpandas/_libs/lib.pyx\u001b[0m in \u001b[0;36mpandas._libs.lib.map_infer\u001b[0;34m()\u001b[0m\n",
      "\u001b[0;32m<ipython-input-2-f7f681e4f1ad>\u001b[0m in \u001b[0;36mapply\u001b[0;34m(self, expression)\u001b[0m\n\u001b[1;32m      8\u001b[0m     \u001b[0;32mdef\u001b[0m \u001b[0mapply\u001b[0m\u001b[0;34m(\u001b[0m\u001b[0mself\u001b[0m\u001b[0;34m,\u001b[0m \u001b[0mexpression\u001b[0m\u001b[0;34m)\u001b[0m \u001b[0;34m->\u001b[0m \u001b[0mDecimal\u001b[0m\u001b[0;34m:\u001b[0m\u001b[0;34m\u001b[0m\u001b[0;34m\u001b[0m\u001b[0m\n\u001b[1;32m      9\u001b[0m         \u001b[0;34m\"\"\"Apply the Decimal's quantize method to a value with the given initial params\"\"\"\u001b[0m\u001b[0;34m\u001b[0m\u001b[0;34m\u001b[0m\u001b[0m\n\u001b[0;32m---> 10\u001b[0;31m         \u001b[0;32mreturn\u001b[0m \u001b[0mexpression\u001b[0m\u001b[0;34m.\u001b[0m\u001b[0mquantize\u001b[0m\u001b[0;34m(\u001b[0m\u001b[0mDecimal\u001b[0m\u001b[0;34m(\u001b[0m\u001b[0;34mf\"{self.decimal_places}\"\u001b[0m\u001b[0;34m)\u001b[0m\u001b[0;34m,\u001b[0m \u001b[0mself\u001b[0m\u001b[0;34m.\u001b[0m\u001b[0mrounding\u001b[0m\u001b[0;34m)\u001b[0m\u001b[0;34m\u001b[0m\u001b[0;34m\u001b[0m\u001b[0m\n\u001b[0m",
      "\u001b[0;31mAttributeError\u001b[0m: 'float' object has no attribute 'quantize'"
     ]
    }
   ],
   "source": [
    "serie2 = serie.apply(quantizer)"
   ]
  },
  {
   "cell_type": "code",
   "execution_count": 48,
   "id": "thrown-telephone",
   "metadata": {},
   "outputs": [
    {
     "data": {
      "text/plain": [
       "5379838665524133.0"
      ]
     },
     "execution_count": 48,
     "metadata": {},
     "output_type": "execute_result"
    }
   ],
   "source": [
    "serie2[0]"
   ]
  },
  {
   "cell_type": "code",
   "execution_count": 37,
   "id": "western-eight",
   "metadata": {},
   "outputs": [
    {
     "data": {
      "text/plain": [
       "pandas.core.series.Series"
      ]
     },
     "execution_count": 37,
     "metadata": {},
     "output_type": "execute_result"
    }
   ],
   "source": []
  },
  {
   "cell_type": "code",
   "execution_count": null,
   "id": "rural-appendix",
   "metadata": {},
   "outputs": [],
   "source": []
  }
 ],
 "metadata": {
  "kernelspec": {
   "display_name": "Python 3",
   "language": "python",
   "name": "python3"
  },
  "language_info": {
   "codemirror_mode": {
    "name": "ipython",
    "version": 3
   },
   "file_extension": ".py",
   "mimetype": "text/x-python",
   "name": "python",
   "nbconvert_exporter": "python",
   "pygments_lexer": "ipython3",
   "version": "3.8.5"
  }
 },
 "nbformat": 4,
 "nbformat_minor": 5
}
