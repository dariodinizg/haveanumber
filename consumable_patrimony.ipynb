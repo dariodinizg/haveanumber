{
 "cells": [
  {
   "cell_type": "code",
   "execution_count": 143,
   "metadata": {},
   "outputs": [],
   "source": [
    "import pandas as pd \n",
    "from decimal import Decimal, ROUND_HALF_EVEN\n",
    "from datetime import *\n",
    "%config Completer.use_jedi = False\n",
    "from dateutil.relativedelta import relativedelta"
   ]
  },
  {
   "cell_type": "markdown",
   "metadata": {},
   "source": [
    "# Backlog\n",
    "* Criar evolução do patrimonio atual até a curva perpétua e curva de consumo.\n",
    "* Criar a evolução do patrimonio para usufruto para a curva perpétua e de consumo\n",
    "* Criar evolução real, curva ascendente do patrimonio atual até o valor futuro, com as contribuições, no ano de usufruto e curva descendente com as retiradas até a idade máxima."
   ]
  },
  {
   "cell_type": "code",
   "execution_count": 148,
   "metadata": {},
   "outputs": [],
   "source": [
    "class FinancialCalculator:\n",
    "    \n",
    "\n",
    "    TWO_CENTS = (Decimal(\"0.00\"), ROUND_HALF_EVEN)\n",
    "    FOR_PLACES = Decimal(\"0.0000\")\n",
    "\n",
    "    def __init__(\n",
    "            self, \n",
    "            current_age, \n",
    "            goal_age, \n",
    "            goal_monthly_withdraw, \n",
    "            initial_patrimony, \n",
    "            monthly_contribution, \n",
    "            current_interest, \n",
    "            future_interest, \n",
    "            max_age\n",
    "        ):\n",
    "        self.current_age = current_age\n",
    "        self.goal_age = goal_age\n",
    "        self.goal_monthly_withdraw = Decimal(goal_monthly_withdraw)\n",
    "        self.initial_patrimony = Decimal(initial_patrimony)\n",
    "        self.monthly_contribution = Decimal(monthly_contribution)\n",
    "        self.current_interest = Decimal().from_float(current_interest/100).quantize(self.FOR_PLACES, ROUND_HALF_EVEN)\n",
    "        self.future_interest = Decimal().from_float(future_interest/100).quantize(self.FOR_PLACES, ROUND_HALF_EVEN)\n",
    "        self.max_age = max_age\n",
    "\n",
    "    @property\n",
    "    def contribution_years(self):\n",
    "        return self.goal_age - self.current_age\n",
    "\n",
    "    @property\n",
    "    def contribution_months(self):\n",
    "        return self.contribution_years * 12\n",
    "\n",
    "    @property\n",
    "    def consumption_months(self):\n",
    "        return (self.max_age - self.goal_age) * 12\n",
    "    \n",
    "    @property\n",
    "    def monthly_yield_current(self):\n",
    "        return self._convert_to_monthly_yield(self.current_interest)\n",
    "\n",
    "    @property\n",
    "    def monthly_yield_goal(self):\n",
    "        return self._convert_to_monthly_yield(self.future_interest)\n",
    "\n",
    "    @property\n",
    "    def consumable_patrimony_value(self):\n",
    "        return self.goal_monthly_withdraw * ((1 + self.monthly_yield_goal)**self.consumption_months - 1)/((1 + self.monthly_yield_goal)**self.consumption_months * self.monthly_yield_goal)\n",
    "\n",
    "    @property\n",
    "    def profitable_patrimony_value(self):\n",
    "        return (self.goal_monthly_withdraw/self.monthly_yield_goal).quantize(*self.TWO_CENTS)\n",
    "    \n",
    "    def create_monthly_growth_history(self):\n",
    "        last_month_value = self.initial_patrimony\n",
    "        growth_history = [last_month_value]\n",
    "        for i in range(0, self.contribution_months + 1):\n",
    "            month_plus_interest = (last_month_value * (1 + self.monthly_yield_current)) + self.monthly_contribution\n",
    "            month_plus_interest.quantize(*self.TWO_CENTS)\n",
    "            growth_history.append(month_plus_interest)\n",
    "            last_month_value = month_plus_interest\n",
    "        return growth_history\n",
    "\n",
    "    def create_anual_growth_history(self):\n",
    "        last_year_value = self.initial_patrimony\n",
    "        growth_history = [last_year_value]\n",
    "        for i in range(0, self.contribution_years + 1):\n",
    "            year_plus_interest = (last_year_value * (1 + self.current_interest)) + (self.monthly_contribution * 12)\n",
    "            year_plus_interest.quantize(*self.TWO_CENTS)\n",
    "            growth_history.append(year_plus_interest)\n",
    "            last_month_value = year_plus_interest\n",
    "        return growth_history\n",
    "\n",
    "\n",
    "    def create_yearly_growth_table(self):\n",
    "        pass\n",
    "\n",
    "    def create_patrimony_consume_table(self):\n",
    "        pass\n",
    "    \n",
    "    def create_yield_consume_table(self):\n",
    "        pass\n",
    "\n",
    "    @staticmethod\n",
    "    def _convert_to_monthly_yield(anual_profitability):\n",
    "        FIVE_PLACES = Decimal(\"0.000000\")\n",
    "        value = Decimal((1 + anual_profitability)**Decimal(1/12) - 1)\n",
    "        return value.quantize(FIVE_PLACES, ROUND_HALF_EVEN)\n",
    "    \n",
    "    @staticmethod\n",
    "    def _to_percent(value):\n",
    "        return Decimal(value/100)"
   ]
  },
  {
   "cell_type": "code",
   "execution_count": 149,
   "metadata": {},
   "outputs": [],
   "source": [
    "payload = {\n",
    "            \"current_age\": 30,\n",
    "            \"goal_age\": 60,\n",
    "            \"goal_monthly_withdraw\": 2500,\n",
    "            \"initial_patrimony\": 100000,\n",
    "            \"monthly_contribution\": 100,\n",
    "            \"current_interest\": 9,\n",
    "            \"future_interest\":6,\n",
    "            \"max_age\": 95\n",
    "        }"
   ]
  },
  {
   "cell_type": "code",
   "execution_count": 150,
   "metadata": {},
   "outputs": [
    {
     "ename": "InvalidOperation",
     "evalue": "[<class 'decimal.InvalidOperation'>]",
     "output_type": "error",
     "traceback": [
      "\u001b[0;31m---------------------------------------------------------------------------\u001b[0m",
      "\u001b[0;31mInvalidOperation\u001b[0m                          Traceback (most recent call last)",
      "\u001b[0;32m<ipython-input-150-a505edca285f>\u001b[0m in \u001b[0;36m<module>\u001b[0;34m\u001b[0m\n\u001b[0;32m----> 1\u001b[0;31m \u001b[0mdata\u001b[0m \u001b[0;34m=\u001b[0m \u001b[0mFinancialCalculator\u001b[0m\u001b[0;34m(\u001b[0m\u001b[0;34m**\u001b[0m\u001b[0mpayload\u001b[0m\u001b[0;34m)\u001b[0m\u001b[0;34m\u001b[0m\u001b[0;34m\u001b[0m\u001b[0m\n\u001b[0m",
      "\u001b[0;32m<ipython-input-148-1aa87bb2c61e>\u001b[0m in \u001b[0;36m__init__\u001b[0;34m(self, current_age, goal_age, goal_monthly_withdraw, initial_patrimony, monthly_contribution, current_interest, future_interest, max_age)\u001b[0m\n\u001b[1;32m     21\u001b[0m         \u001b[0mself\u001b[0m\u001b[0;34m.\u001b[0m\u001b[0minitial_patrimony\u001b[0m \u001b[0;34m=\u001b[0m \u001b[0mDecimal\u001b[0m\u001b[0;34m(\u001b[0m\u001b[0minitial_patrimony\u001b[0m\u001b[0;34m)\u001b[0m\u001b[0;34m\u001b[0m\u001b[0;34m\u001b[0m\u001b[0m\n\u001b[1;32m     22\u001b[0m         \u001b[0mself\u001b[0m\u001b[0;34m.\u001b[0m\u001b[0mmonthly_contribution\u001b[0m \u001b[0;34m=\u001b[0m \u001b[0mDecimal\u001b[0m\u001b[0;34m(\u001b[0m\u001b[0mmonthly_contribution\u001b[0m\u001b[0;34m)\u001b[0m\u001b[0;34m\u001b[0m\u001b[0;34m\u001b[0m\u001b[0m\n\u001b[0;32m---> 23\u001b[0;31m         \u001b[0mself\u001b[0m\u001b[0;34m.\u001b[0m\u001b[0mcurrent_interest\u001b[0m \u001b[0;34m=\u001b[0m \u001b[0mDecimal\u001b[0m\u001b[0;34m(\u001b[0m\u001b[0;34m)\u001b[0m\u001b[0;34m.\u001b[0m\u001b[0mfrom_float\u001b[0m\u001b[0;34m(\u001b[0m\u001b[0mcurrent_interest\u001b[0m\u001b[0;34m/\u001b[0m\u001b[0;36m100\u001b[0m\u001b[0;34m)\u001b[0m\u001b[0;34m.\u001b[0m\u001b[0mquantize\u001b[0m\u001b[0;34m(\u001b[0m\u001b[0mself\u001b[0m\u001b[0;34m.\u001b[0m\u001b[0mFOR_PLACES\u001b[0m\u001b[0;34m,\u001b[0m \u001b[0mROUND_HALF_EVEN\u001b[0m\u001b[0;34m)\u001b[0m\u001b[0;34m\u001b[0m\u001b[0;34m\u001b[0m\u001b[0m\n\u001b[0m\u001b[1;32m     24\u001b[0m         \u001b[0mself\u001b[0m\u001b[0;34m.\u001b[0m\u001b[0mfuture_interest\u001b[0m \u001b[0;34m=\u001b[0m \u001b[0mDecimal\u001b[0m\u001b[0;34m(\u001b[0m\u001b[0;34m)\u001b[0m\u001b[0;34m.\u001b[0m\u001b[0mfrom_float\u001b[0m\u001b[0;34m(\u001b[0m\u001b[0mfuture_interest\u001b[0m\u001b[0;34m/\u001b[0m\u001b[0;36m100\u001b[0m\u001b[0;34m)\u001b[0m\u001b[0;34m.\u001b[0m\u001b[0mquantize\u001b[0m\u001b[0;34m(\u001b[0m\u001b[0mself\u001b[0m\u001b[0;34m.\u001b[0m\u001b[0mFOR_PLACES\u001b[0m\u001b[0;34m,\u001b[0m \u001b[0mROUND_HALF_EVEN\u001b[0m\u001b[0;34m)\u001b[0m\u001b[0;34m\u001b[0m\u001b[0;34m\u001b[0m\u001b[0m\n\u001b[1;32m     25\u001b[0m         \u001b[0mself\u001b[0m\u001b[0;34m.\u001b[0m\u001b[0mmax_age\u001b[0m \u001b[0;34m=\u001b[0m \u001b[0mmax_age\u001b[0m\u001b[0;34m\u001b[0m\u001b[0;34m\u001b[0m\u001b[0m\n",
      "\u001b[0;31mInvalidOperation\u001b[0m: [<class 'decimal.InvalidOperation'>]"
     ]
    }
   ],
   "source": [
    "data = FinancialCalculator(**payload)"
   ]
  },
  {
   "cell_type": "code",
   "execution_count": null,
   "metadata": {},
   "outputs": [],
   "source": [
    "data.current_interest"
   ]
  },
  {
   "cell_type": "code",
   "execution_count": null,
   "metadata": {},
   "outputs": [],
   "source": [
    "data.consumable_patrimony_value"
   ]
  },
  {
   "cell_type": "code",
   "execution_count": 151,
   "metadata": {},
   "outputs": [
    {
     "ename": "DivisionByZero",
     "evalue": "[<class 'decimal.DivisionByZero'>]",
     "output_type": "error",
     "traceback": [
      "\u001b[0;31m---------------------------------------------------------------------------\u001b[0m",
      "\u001b[0;31mDivisionByZero\u001b[0m                            Traceback (most recent call last)",
      "\u001b[0;32m<ipython-input-151-bfbdc6d4b13b>\u001b[0m in \u001b[0;36m<module>\u001b[0;34m\u001b[0m\n\u001b[0;32m----> 1\u001b[0;31m \u001b[0mdata\u001b[0m\u001b[0;34m.\u001b[0m\u001b[0mprofitable_patrimony_value\u001b[0m\u001b[0;34m\u001b[0m\u001b[0;34m\u001b[0m\u001b[0m\n\u001b[0m",
      "\u001b[0;32m<ipython-input-126-33502116432d>\u001b[0m in \u001b[0;36mprofitable_patrimony_value\u001b[0;34m(self)\u001b[0m\n\u001b[1;32m     57\u001b[0m     \u001b[0;34m@\u001b[0m\u001b[0mproperty\u001b[0m\u001b[0;34m\u001b[0m\u001b[0;34m\u001b[0m\u001b[0m\n\u001b[1;32m     58\u001b[0m     \u001b[0;32mdef\u001b[0m \u001b[0mprofitable_patrimony_value\u001b[0m\u001b[0;34m(\u001b[0m\u001b[0mself\u001b[0m\u001b[0;34m)\u001b[0m\u001b[0;34m:\u001b[0m\u001b[0;34m\u001b[0m\u001b[0;34m\u001b[0m\u001b[0m\n\u001b[0;32m---> 59\u001b[0;31m         \u001b[0;32mreturn\u001b[0m \u001b[0;34m(\u001b[0m\u001b[0mself\u001b[0m\u001b[0;34m.\u001b[0m\u001b[0mgoal_monthly_withdraw\u001b[0m\u001b[0;34m/\u001b[0m\u001b[0mself\u001b[0m\u001b[0;34m.\u001b[0m\u001b[0mmonthly_yield_goal\u001b[0m\u001b[0;34m)\u001b[0m\u001b[0;34m\u001b[0m\u001b[0;34m\u001b[0m\u001b[0m\n\u001b[0m\u001b[1;32m     60\u001b[0m \u001b[0;34m\u001b[0m\u001b[0m\n\u001b[1;32m     61\u001b[0m     \u001b[0;32mdef\u001b[0m \u001b[0mcreate_monthly_growth_history\u001b[0m\u001b[0;34m(\u001b[0m\u001b[0mself\u001b[0m\u001b[0;34m)\u001b[0m\u001b[0;34m:\u001b[0m\u001b[0;34m\u001b[0m\u001b[0;34m\u001b[0m\u001b[0m\n",
      "\u001b[0;31mDivisionByZero\u001b[0m: [<class 'decimal.DivisionByZero'>]"
     ]
    }
   ],
   "source": [
    "data.profitable_patrimony_value"
   ]
  },
  {
   "cell_type": "code",
   "execution_count": 84,
   "metadata": {},
   "outputs": [
    {
     "data": {
      "text/plain": [
       "{'current_age': 30,\n",
       " 'goal_age': 60,\n",
       " 'goal_monthly_withdraw': Decimal('2500'),\n",
       " 'initial_patrimony': Decimal('100000'),\n",
       " 'monthly_contribution': Decimal('100'),\n",
       " 'current_interest': Decimal('0.0900'),\n",
       " 'future_interest': Decimal('0.0600'),\n",
       " 'max_age': 95}"
      ]
     },
     "execution_count": 84,
     "metadata": {},
     "output_type": "execute_result"
    }
   ],
   "source": [
    "data.__dict__"
   ]
  },
  {
   "cell_type": "code",
   "execution_count": 96,
   "metadata": {},
   "outputs": [
    {
     "ename": "TypeError",
     "evalue": "cannot unpack non-iterable decimal.Decimal object",
     "output_type": "error",
     "traceback": [
      "\u001b[0;31m---------------------------------------------------------------------------\u001b[0m",
      "\u001b[0;31mTypeError\u001b[0m                                 Traceback (most recent call last)",
      "\u001b[0;32m<ipython-input-96-acd2c0d1e96f>\u001b[0m in \u001b[0;36m<module>\u001b[0;34m\u001b[0m\n\u001b[0;32m----> 1\u001b[0;31m \u001b[0mgrowth_history\u001b[0m \u001b[0;34m=\u001b[0m \u001b[0mdata\u001b[0m\u001b[0;34m.\u001b[0m\u001b[0mcreate_monthly_growth_history\u001b[0m\u001b[0;34m(\u001b[0m\u001b[0;34m)\u001b[0m\u001b[0;34m\u001b[0m\u001b[0;34m\u001b[0m\u001b[0m\n\u001b[0m\u001b[1;32m      2\u001b[0m \u001b[0mgrowth_history\u001b[0m\u001b[0;34m[\u001b[0m\u001b[0;34m:\u001b[0m\u001b[0;36m5\u001b[0m\u001b[0;34m]\u001b[0m\u001b[0;34m\u001b[0m\u001b[0;34m\u001b[0m\u001b[0m\n",
      "\u001b[0;32m<ipython-input-91-1f79c9729a31>\u001b[0m in \u001b[0;36mcreate_monthly_growth_history\u001b[0;34m(self)\u001b[0m\n\u001b[1;32m     54\u001b[0m \u001b[0;34m\u001b[0m\u001b[0m\n\u001b[1;32m     55\u001b[0m     \u001b[0;32mdef\u001b[0m \u001b[0mcreate_monthly_growth_history\u001b[0m\u001b[0;34m(\u001b[0m\u001b[0mself\u001b[0m\u001b[0;34m)\u001b[0m\u001b[0;34m:\u001b[0m\u001b[0;34m\u001b[0m\u001b[0;34m\u001b[0m\u001b[0m\n\u001b[0;32m---> 56\u001b[0;31m         \u001b[0mquantize_exp\u001b[0m\u001b[0;34m,\u001b[0m \u001b[0mrounding\u001b[0m \u001b[0;34m=\u001b[0m \u001b[0mself\u001b[0m\u001b[0;34m.\u001b[0m\u001b[0mTWO_CENTS\u001b[0m\u001b[0;34m\u001b[0m\u001b[0;34m\u001b[0m\u001b[0m\n\u001b[0m\u001b[1;32m     57\u001b[0m         \u001b[0mlast_month_value\u001b[0m \u001b[0;34m=\u001b[0m \u001b[0mself\u001b[0m\u001b[0;34m.\u001b[0m\u001b[0minitial_patrimony\u001b[0m\u001b[0;34m\u001b[0m\u001b[0;34m\u001b[0m\u001b[0m\n\u001b[1;32m     58\u001b[0m         \u001b[0mgrowth_history\u001b[0m \u001b[0;34m=\u001b[0m \u001b[0;34m[\u001b[0m\u001b[0mlast_month_value\u001b[0m\u001b[0;34m]\u001b[0m\u001b[0;34m\u001b[0m\u001b[0;34m\u001b[0m\u001b[0m\n",
      "\u001b[0;31mTypeError\u001b[0m: cannot unpack non-iterable decimal.Decimal object"
     ]
    }
   ],
   "source": [
    "growth_history = data.create_monthly_growth_history()\n",
    "growth_history[:5]"
   ]
  },
  {
   "cell_type": "code",
   "execution_count": 12,
   "metadata": {},
   "outputs": [
    {
     "data": {
      "text/plain": [
       "0       100000\n",
       "1    101080.70\n",
       "2    102169.19\n",
       "3    103265.52\n",
       "4    104369.76\n",
       "dtype: object"
      ]
     },
     "execution_count": 12,
     "metadata": {},
     "output_type": "execute_result"
    }
   ],
   "source": [
    "growth_serie = pd.Series(growth_history)\n",
    "growth_serie[:5]"
   ]
  },
  {
   "cell_type": "code",
   "execution_count": 13,
   "metadata": {},
   "outputs": [
    {
     "data": {
      "text/plain": [
       "361"
      ]
     },
     "execution_count": 13,
     "metadata": {},
     "output_type": "execute_result"
    }
   ],
   "source": [
    "growth_serie.count()"
   ]
  },
  {
   "cell_type": "code",
   "execution_count": 14,
   "metadata": {},
   "outputs": [
    {
     "data": {
      "text/plain": [
       "{'current_age': 30,\n",
       " 'goal_age': 60,\n",
       " 'goal_monthly_withdraw': Decimal('2500'),\n",
       " 'initial_patrimony': Decimal('100000'),\n",
       " 'monthly_contribution': Decimal('100'),\n",
       " 'current_interest': Decimal('0.0900'),\n",
       " 'future_interest': Decimal('0.0600'),\n",
       " 'max_age': 95}"
      ]
     },
     "execution_count": 14,
     "metadata": {},
     "output_type": "execute_result"
    }
   ],
   "source": [
    "data.__dict__"
   ]
  },
  {
   "cell_type": "code",
   "execution_count": 15,
   "metadata": {},
   "outputs": [
    {
     "data": {
      "text/plain": [
       "datetime.date(2021, 1, 19)"
      ]
     },
     "execution_count": 15,
     "metadata": {},
     "output_type": "execute_result"
    }
   ],
   "source": [
    "hoje = date.today()\n",
    "hoje"
   ]
  },
  {
   "cell_type": "code",
   "execution_count": 16,
   "metadata": {},
   "outputs": [
    {
     "data": {
      "text/plain": [
       "datetime.date(2051, 1, 19)"
      ]
     },
     "execution_count": 16,
     "metadata": {},
     "output_type": "execute_result"
    }
   ],
   "source": [
    "goal_date = hoje + relativedelta(years=+(data.goal_age - data.current_age))\n",
    "goal_date"
   ]
  },
  {
   "cell_type": "code",
   "execution_count": 17,
   "metadata": {},
   "outputs": [
    {
     "data": {
      "text/plain": [
       "datetime.date(2086, 1, 19)"
      ]
     },
     "execution_count": 17,
     "metadata": {},
     "output_type": "execute_result"
    }
   ],
   "source": [
    "max_date = hoje + relativedelta(years=(data.max_age - data.current_age))\n",
    "max_date"
   ]
  },
  {
   "cell_type": "code",
   "execution_count": 18,
   "metadata": {},
   "outputs": [
    {
     "data": {
      "text/plain": [
       "DatetimeIndex(['2021-01-31', '2021-02-28', '2021-03-31', '2021-04-30',\n",
       "               '2021-05-31', '2021-06-30', '2021-07-31', '2021-08-31',\n",
       "               '2021-09-30', '2021-10-31',\n",
       "               ...\n",
       "               '2085-03-31', '2085-04-30', '2085-05-31', '2085-06-30',\n",
       "               '2085-07-31', '2085-08-31', '2085-09-30', '2085-10-31',\n",
       "               '2085-11-30', '2085-12-31'],\n",
       "              dtype='datetime64[ns]', length=780, freq='M')"
      ]
     },
     "execution_count": 18,
     "metadata": {},
     "output_type": "execute_result"
    }
   ],
   "source": [
    "# Lista de meses da data atual até a data máxima\n",
    "months_list = pd.date_range(start=hoje, end=max_date, freq='M')\n",
    "months_list"
   ]
  },
  {
   "cell_type": "code",
   "execution_count": 19,
   "metadata": {},
   "outputs": [
    {
     "data": {
      "text/plain": [
       "2021-01-31     1/21\n",
       "2021-02-28     2/21\n",
       "2021-03-31     3/21\n",
       "2021-04-30     4/21\n",
       "2021-05-31     5/21\n",
       "              ...  \n",
       "2085-08-31     8/85\n",
       "2085-09-30     9/85\n",
       "2085-10-31    10/85\n",
       "2085-11-30    11/85\n",
       "2085-12-31    12/85\n",
       "Freq: M, Length: 780, dtype: object"
      ]
     },
     "execution_count": 19,
     "metadata": {},
     "output_type": "execute_result"
    }
   ],
   "source": [
    "# Converte o DateTimeIndex para uma série\n",
    "months_list = months_list.to_series().apply(lambda date:f\"{date.month}/{str(date.year)[2::]}\")\n",
    "\n",
    "months_list"
   ]
  },
  {
   "cell_type": "markdown",
   "metadata": {},
   "source": [
    "## Função - Meses, números para nomes"
   ]
  },
  {
   "cell_type": "code",
   "execution_count": 20,
   "metadata": {},
   "outputs": [],
   "source": [
    "def to_label(month):\n",
    "    months = ['janeiro', 'fevereiro', 'março', 'abril', 'maio', 'junho', 'julho', 'agosto', 'setembro', 'outubro', 'novembro', 'dezembro']\n",
    "    month_info = month.split('/')\n",
    "    return f\"{months[int(month_info[0]) - 1]}/{month_info[1]}\""
   ]
  },
  {
   "cell_type": "code",
   "execution_count": 21,
   "metadata": {},
   "outputs": [
    {
     "data": {
      "text/plain": [
       "2021-01-31      janeiro/21\n",
       "2021-02-28    fevereiro/21\n",
       "2021-03-31        março/21\n",
       "2021-04-30        abril/21\n",
       "2021-05-31         maio/21\n",
       "                  ...     \n",
       "2085-08-31       agosto/85\n",
       "2085-09-30     setembro/85\n",
       "2085-10-31      outubro/85\n",
       "2085-11-30     novembro/85\n",
       "2085-12-31     dezembro/85\n",
       "Freq: M, Length: 780, dtype: object"
      ]
     },
     "execution_count": 21,
     "metadata": {},
     "output_type": "execute_result"
    }
   ],
   "source": [
    "months_list = months_list.apply(to_label)\n",
    "months_list"
   ]
  },
  {
   "cell_type": "code",
   "execution_count": 22,
   "metadata": {},
   "outputs": [
    {
     "data": {
      "text/plain": [
       "780"
      ]
     },
     "execution_count": 22,
     "metadata": {},
     "output_type": "execute_result"
    }
   ],
   "source": [
    "months_list.count()"
   ]
  },
  {
   "cell_type": "code",
   "execution_count": 23,
   "metadata": {},
   "outputs": [],
   "source": [
    "month_series = pd.Series(months_list)"
   ]
  },
  {
   "cell_type": "code",
   "execution_count": 24,
   "metadata": {},
   "outputs": [
    {
     "data": {
      "text/plain": [
       "2021-01-31      janeiro/21\n",
       "2021-02-28    fevereiro/21\n",
       "2021-03-31        março/21\n",
       "2021-04-30        abril/21\n",
       "2021-05-31         maio/21\n",
       "                  ...     \n",
       "2085-08-31       agosto/85\n",
       "2085-09-30     setembro/85\n",
       "2085-10-31      outubro/85\n",
       "2085-11-30     novembro/85\n",
       "2085-12-31     dezembro/85\n",
       "Freq: M, Length: 780, dtype: object"
      ]
     },
     "execution_count": 24,
     "metadata": {},
     "output_type": "execute_result"
    }
   ],
   "source": [
    "month_series"
   ]
  },
  {
   "cell_type": "code",
   "execution_count": 25,
   "metadata": {},
   "outputs": [
    {
     "data": {
      "text/plain": [
       "Decimal('446753.9130176059371728841892')"
      ]
     },
     "execution_count": 25,
     "metadata": {},
     "output_type": "execute_result"
    }
   ],
   "source": [
    "data.consumable_patrimony_value"
   ]
  },
  {
   "cell_type": "code",
   "execution_count": 26,
   "metadata": {},
   "outputs": [],
   "source": [
    "def create_monthly_consume_history(consumable_patrimony_value, consume_months, monthly_withdraw, monthly_yield):\n",
    "    TWO_CENTS = Decimal(\"0.00\")\n",
    "    last_month = consumable_patrimony_value\n",
    "    consumption_history = []\n",
    "    for month in range(0,consume_months - 1):\n",
    "        if last_month == 0:\n",
    "            consumption_history.append(0)\n",
    "            continue\n",
    "        avaliable_value = (last_month * (1 + monthly_yield)) - monthly_withdraw\n",
    "        if avaliable_value > 0:\n",
    "            consumption_history.append(avaliable_value.quantize(TWO_CENTS, ROUND_HALF_EVEN))\n",
    "            last_month = avaliable_value\n",
    "        else:\n",
    "            consumption_history.append(0)\n",
    "            last_month = 0\n",
    "            \n",
    "    return consumption_history"
   ]
  },
  {
   "cell_type": "code",
   "execution_count": 27,
   "metadata": {},
   "outputs": [
    {
     "data": {
      "text/plain": [
       "[Decimal('1946266.75'),\n",
       " Decimal('1953241.18'),\n",
       " Decimal('1960249.55'),\n",
       " Decimal('1967292.05'),\n",
       " Decimal('1974368.83')]"
      ]
     },
     "execution_count": 27,
     "metadata": {},
     "output_type": "execute_result"
    }
   ],
   "source": [
    "consumption_history = create_monthly_consume_history(growth_history[-1], data.consumption_months, data.goal_monthly_withdraw, data.monthly_yield_goal)\n",
    "consumption_history[0:5]"
   ]
  },
  {
   "cell_type": "code",
   "execution_count": 28,
   "metadata": {},
   "outputs": [
    {
     "data": {
      "text/plain": [
       "0       1946266.75\n",
       "1       1953241.18\n",
       "2       1960249.55\n",
       "3       1967292.05\n",
       "4       1974368.83\n",
       "          ...     \n",
       "414    11211265.01\n",
       "415    11263341.45\n",
       "416    11315671.40\n",
       "417    11368256.08\n",
       "418    11421096.75\n",
       "Length: 419, dtype: object"
      ]
     },
     "execution_count": 28,
     "metadata": {},
     "output_type": "execute_result"
    }
   ],
   "source": [
    "consumption_series = pd.Series(consumption_history)\n",
    "consumption_series"
   ]
  },
  {
   "cell_type": "code",
   "execution_count": 29,
   "metadata": {},
   "outputs": [
    {
     "data": {
      "text/plain": [
       "True"
      ]
     },
     "execution_count": 29,
     "metadata": {},
     "output_type": "execute_result"
    }
   ],
   "source": [
    "consumption_series.get(key=418) > 0"
   ]
  },
  {
   "cell_type": "code",
   "execution_count": 30,
   "metadata": {},
   "outputs": [
    {
     "data": {
      "text/plain": [
       "780"
      ]
     },
     "execution_count": 30,
     "metadata": {},
     "output_type": "execute_result"
    }
   ],
   "source": [
    "consumption_series.count() + growth_serie.count()"
   ]
  },
  {
   "cell_type": "code",
   "execution_count": 31,
   "metadata": {},
   "outputs": [],
   "source": [
    "client_history = growth_serie.append(consumption_series)"
   ]
  },
  {
   "cell_type": "code",
   "execution_count": 32,
   "metadata": {},
   "outputs": [
    {
     "data": {
      "text/plain": [
       "780"
      ]
     },
     "execution_count": 32,
     "metadata": {},
     "output_type": "execute_result"
    }
   ],
   "source": [
    "client_history.count()"
   ]
  },
  {
   "cell_type": "code",
   "execution_count": 33,
   "metadata": {},
   "outputs": [
    {
     "data": {
      "text/plain": [
       "414    11211265.01\n",
       "415    11263341.45\n",
       "416    11315671.40\n",
       "417    11368256.08\n",
       "418    11421096.75\n",
       "dtype: object"
      ]
     },
     "execution_count": 33,
     "metadata": {},
     "output_type": "execute_result"
    }
   ],
   "source": [
    "client_history.tail()"
   ]
  },
  {
   "cell_type": "code",
   "execution_count": 34,
   "metadata": {},
   "outputs": [],
   "source": [
    "df_schema = {\n",
    "    'months': month_series,\n",
    "    'history': client_history.reset_index(drop=True)\n",
    "}"
   ]
  },
  {
   "cell_type": "code",
   "execution_count": 35,
   "metadata": {},
   "outputs": [],
   "source": [
    "client_df = pd.DataFrame(df_schema)"
   ]
  },
  {
   "cell_type": "code",
   "execution_count": 38,
   "metadata": {},
   "outputs": [
    {
     "data": {
      "text/html": [
       "<div>\n",
       "<style scoped>\n",
       "    .dataframe tbody tr th:only-of-type {\n",
       "        vertical-align: middle;\n",
       "    }\n",
       "\n",
       "    .dataframe tbody tr th {\n",
       "        vertical-align: top;\n",
       "    }\n",
       "\n",
       "    .dataframe thead th {\n",
       "        text-align: right;\n",
       "    }\n",
       "</style>\n",
       "<table border=\"1\" class=\"dataframe\">\n",
       "  <thead>\n",
       "    <tr style=\"text-align: right;\">\n",
       "      <th></th>\n",
       "      <th>months</th>\n",
       "      <th>history</th>\n",
       "    </tr>\n",
       "  </thead>\n",
       "  <tbody>\n",
       "    <tr>\n",
       "      <th>1970-01-01 00:00:00.000000000</th>\n",
       "      <td>NaN</td>\n",
       "      <td>NaN</td>\n",
       "    </tr>\n",
       "    <tr>\n",
       "      <th>1970-01-01 00:00:00.000000001</th>\n",
       "      <td>NaN</td>\n",
       "      <td>NaN</td>\n",
       "    </tr>\n",
       "    <tr>\n",
       "      <th>1970-01-01 00:00:00.000000002</th>\n",
       "      <td>NaN</td>\n",
       "      <td>NaN</td>\n",
       "    </tr>\n",
       "    <tr>\n",
       "      <th>1970-01-01 00:00:00.000000003</th>\n",
       "      <td>NaN</td>\n",
       "      <td>NaN</td>\n",
       "    </tr>\n",
       "    <tr>\n",
       "      <th>1970-01-01 00:00:00.000000004</th>\n",
       "      <td>NaN</td>\n",
       "      <td>NaN</td>\n",
       "    </tr>\n",
       "    <tr>\n",
       "      <th>...</th>\n",
       "      <td>...</td>\n",
       "      <td>...</td>\n",
       "    </tr>\n",
       "    <tr>\n",
       "      <th>2085-08-31 00:00:00.000000000</th>\n",
       "      <td>agosto/85</td>\n",
       "      <td>NaN</td>\n",
       "    </tr>\n",
       "    <tr>\n",
       "      <th>2085-09-30 00:00:00.000000000</th>\n",
       "      <td>setembro/85</td>\n",
       "      <td>NaN</td>\n",
       "    </tr>\n",
       "    <tr>\n",
       "      <th>2085-10-31 00:00:00.000000000</th>\n",
       "      <td>outubro/85</td>\n",
       "      <td>NaN</td>\n",
       "    </tr>\n",
       "    <tr>\n",
       "      <th>2085-11-30 00:00:00.000000000</th>\n",
       "      <td>novembro/85</td>\n",
       "      <td>NaN</td>\n",
       "    </tr>\n",
       "    <tr>\n",
       "      <th>2085-12-31 00:00:00.000000000</th>\n",
       "      <td>dezembro/85</td>\n",
       "      <td>NaN</td>\n",
       "    </tr>\n",
       "  </tbody>\n",
       "</table>\n",
       "<p>1560 rows × 2 columns</p>\n",
       "</div>"
      ],
      "text/plain": [
       "                                    months history\n",
       "1970-01-01 00:00:00.000000000          NaN     NaN\n",
       "1970-01-01 00:00:00.000000001          NaN     NaN\n",
       "1970-01-01 00:00:00.000000002          NaN     NaN\n",
       "1970-01-01 00:00:00.000000003          NaN     NaN\n",
       "1970-01-01 00:00:00.000000004          NaN     NaN\n",
       "...                                    ...     ...\n",
       "2085-08-31 00:00:00.000000000    agosto/85     NaN\n",
       "2085-09-30 00:00:00.000000000  setembro/85     NaN\n",
       "2085-10-31 00:00:00.000000000   outubro/85     NaN\n",
       "2085-11-30 00:00:00.000000000  novembro/85     NaN\n",
       "2085-12-31 00:00:00.000000000  dezembro/85     NaN\n",
       "\n",
       "[1560 rows x 2 columns]"
      ]
     },
     "execution_count": 38,
     "metadata": {},
     "output_type": "execute_result"
    }
   ],
   "source": [
    "client_df"
   ]
  },
  {
   "cell_type": "code",
   "execution_count": 39,
   "metadata": {},
   "outputs": [
    {
     "data": {
      "text/plain": [
       "{'current_age': 30,\n",
       " 'goal_age': 60,\n",
       " 'goal_monthly_withdraw': Decimal('2500'),\n",
       " 'initial_patrimony': Decimal('100000'),\n",
       " 'monthly_contribution': Decimal('100'),\n",
       " 'current_interest': Decimal('0.0900'),\n",
       " 'future_interest': Decimal('0.0600'),\n",
       " 'max_age': 95}"
      ]
     },
     "execution_count": 39,
     "metadata": {},
     "output_type": "execute_result"
    }
   ],
   "source": [
    "data.__dict__\n"
   ]
  },
  {
   "cell_type": "code",
   "execution_count": 40,
   "metadata": {},
   "outputs": [],
   "source": [
    "def get_present_value(future_value, interest_tax, time):\n",
    "    return future_value/((1 + interest_tax)**time)"
   ]
  },
  {
   "cell_type": "code",
   "execution_count": 43,
   "metadata": {},
   "outputs": [],
   "source": [
    "def valorfuturo(aporte, juros, periodo):\n",
    "    return aporte*(((1 + juros)**periodo) - 1)/juros"
   ]
  },
  {
   "cell_type": "code",
   "execution_count": 47,
   "metadata": {},
   "outputs": [
    {
     "data": {
      "text/plain": [
       "Decimal('446753.9130176059371728841892')"
      ]
     },
     "execution_count": 47,
     "metadata": {},
     "output_type": "execute_result"
    }
   ],
   "source": [
    "data.consumable_patrimony_value"
   ]
  },
  {
   "cell_type": "code",
   "execution_count": null,
   "metadata": {},
   "outputs": [],
   "source": []
  }
 ],
 "metadata": {
  "kernelspec": {
   "display_name": "Python 3",
   "language": "python",
   "name": "python3"
  },
  "language_info": {
   "codemirror_mode": {
    "name": "ipython",
    "version": 3
   },
   "file_extension": ".py",
   "mimetype": "text/x-python",
   "name": "python",
   "nbconvert_exporter": "python",
   "pygments_lexer": "ipython3",
   "version": "3.8.5"
  }
 },
 "nbformat": 4,
 "nbformat_minor": 4
}
